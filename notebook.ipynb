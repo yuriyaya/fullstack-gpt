{
 "cells": [
  {
   "cell_type": "code",
   "execution_count": 6,
   "metadata": {},
   "outputs": [
    {
     "data": {
      "text/plain": [
       "'\\nA potato is a starchy, tuberous crop grown for its edible tuber. It is one of the most widely cultivated and consumed vegetables in the world. Potatoes are native to South America but have been domesticated and cultivated by humans for thousands of years. They are an important source of food and nutrition in many parts of the world, particularly in developing countries where they are a staple crop.'"
      ]
     },
     "execution_count": 6,
     "metadata": {},
     "output_type": "execute_result"
    }
   ],
   "source": [
    "from langchain.llms import GPT4All\n",
    "from langchain.prompts import PromptTemplate\n",
    "\n",
    "prompt = PromptTemplate.from_template(\"You are a helpful assistant that defines words. Define this word: {word}\")\n",
    "\n",
    "llm = GPT4All(\n",
    "  model=\"./falcon.bin\",\n",
    ")\n",
    "\n",
    "chain = prompt | llm\n",
    "\n",
    "chain.invoke({\n",
    "  \"word\": \"potato\"\n",
    "})"
   ]
  }
 ],
 "metadata": {
  "kernelspec": {
   "display_name": ".venv",
   "language": "python",
   "name": "python3"
  },
  "language_info": {
   "codemirror_mode": {
    "name": "ipython",
    "version": 3
   },
   "file_extension": ".py",
   "mimetype": "text/x-python",
   "name": "python",
   "nbconvert_exporter": "python",
   "pygments_lexer": "ipython3",
   "version": "3.11.6"
  }
 },
 "nbformat": 4,
 "nbformat_minor": 2
}
