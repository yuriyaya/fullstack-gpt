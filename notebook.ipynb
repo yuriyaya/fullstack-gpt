{
 "cells": [
  {
   "cell_type": "code",
   "execution_count": 5,
   "metadata": {},
   "outputs": [],
   "source": [
    "import subprocess\n",
    "from pydub import AudioSegment\n",
    "import math\n",
    "\n",
    "def extract_audio_from_video(vidoe_path, audio_path):\n",
    "  command = [\"ffmpeg\", \"-i\", vidoe_path, \"-vn\", audio_path]\n",
    "  subprocess.run(command)\n",
    "\n",
    "# extract_audio_from_video(\"files/video.mp4\", \"files/audio.mp3\")\n",
    "\n",
    "def cut_audio_in_chunks(audio_path, chunk_size_in_minute, chunks_path, offset_in_sec):\n",
    "  track = AudioSegment.from_mp3(audio_path)\n",
    "  chunk_len = chunk_size_in_minute * 60 * 1000\n",
    "  chunk= math.ceil(len(track) / chunk_len)\n",
    "  for i in range(chunk):\n",
    "    start_time = (offset_in_sec*1000) + (i * chunk_len)\n",
    "    end_time = (offset_in_sec*1000) + ((i+1) * chunk_len)\n",
    "    chunk = track[start_time:end_time]\n",
    "    chunk.export(f\"./{chunks_path}/chunk_{i}.mp3\", format=\"mp3\")\n",
    "\n",
    "cut_audio_in_chunks(\"./files/audio.mp3\", 10, \"files/chunks\", 88)\n"
   ]
  },
  {
   "cell_type": "code",
   "execution_count": 7,
   "metadata": {},
   "outputs": [],
   "source": [
    "import openai\n",
    "import glob\n",
    "\n",
    "def transcript_chunks(chunk_path, dest):\n",
    "  files = glob.glob(f\"{chunk_path}/*.mp3\")\n",
    "  final_transcript = \"\"\n",
    "  for file in files:\n",
    "    with open(file, \"rb\") as audio_file:\n",
    "      transcript = openai.Audio.transcribe(\"whisper-1\", audio_file)\n",
    "      final_transcript += transcript[\"text\"]\n",
    "  with open(dest, \"w\") as file:\n",
    "    file.write(final_transcript)\n",
    "\n",
    "transcript_chunks(\"./files/chunks\", \"./files/transcript.txt\")"
   ]
  }
 ],
 "metadata": {
  "kernelspec": {
   "display_name": ".venv",
   "language": "python",
   "name": "python3"
  },
  "language_info": {
   "codemirror_mode": {
    "name": "ipython",
    "version": 3
   },
   "file_extension": ".py",
   "mimetype": "text/x-python",
   "name": "python",
   "nbconvert_exporter": "python",
   "pygments_lexer": "ipython3",
   "version": "3.11.6"
  }
 },
 "nbformat": 4,
 "nbformat_minor": 2
}
