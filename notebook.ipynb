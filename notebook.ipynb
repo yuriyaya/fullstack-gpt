{
 "cells": [
  {
   "cell_type": "code",
   "execution_count": 2,
   "metadata": {},
   "outputs": [
    {
     "data": {
      "text/plain": [
       "4468.355192743764"
      ]
     },
     "execution_count": 2,
     "metadata": {},
     "output_type": "execute_result"
    }
   ],
   "source": [
    "import subprocess\n",
    "from pydub import AudioSegment\n",
    "\n",
    "def extract_audio_from_video(vidoe_path, audio_path):\n",
    "  command = [\"ffmpeg\", \"-i\", vidoe_path, \"-vn\", audio_path]\n",
    "  subprocess.run(command)\n",
    "\n",
    "# extract_audio_from_video(\"files/video.mp4\", \"files/audio.mp3\")\n",
    "\n",
    "track = AudioSegment.from_mp3(\"./files/audio.mp3\")\n",
    "track.duration_seconds\n",
    "\n"
   ]
  },
  {
   "cell_type": "code",
   "execution_count": 3,
   "metadata": {},
   "outputs": [],
   "source": [
    "import math\n",
    "\n",
    "ten_minutes = 10 * 60 * 1000\n",
    "chunk = math.ceil(len(track) / ten_minutes)\n",
    "\n",
    "for i in range(chunk):\n",
    "  start_time = i * ten_minutes\n",
    "  end_time = (i+1) * ten_minutes\n",
    "  chunk = track[start_time:end_time]\n",
    "  chunk.export(f\"./files/chunks/chunk_{i}.mp3\")"
   ]
  }
 ],
 "metadata": {
  "kernelspec": {
   "display_name": ".venv",
   "language": "python",
   "name": "python3"
  },
  "language_info": {
   "codemirror_mode": {
    "name": "ipython",
    "version": 3
   },
   "file_extension": ".py",
   "mimetype": "text/x-python",
   "name": "python",
   "nbconvert_exporter": "python",
   "pygments_lexer": "ipython3",
   "version": "3.11.6"
  }
 },
 "nbformat": 4,
 "nbformat_minor": 2
}
