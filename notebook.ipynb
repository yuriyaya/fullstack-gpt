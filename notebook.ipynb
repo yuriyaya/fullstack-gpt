{
 "cells": [
  {
   "cell_type": "code",
   "execution_count": 32,
   "metadata": {},
   "outputs": [],
   "source": [
    "from langchain.chat_models import ChatOpenAI\n",
    "from langchain.document_loaders import UnstructuredFileLoader\n",
    "from langchain.text_splitter import CharacterTextSplitter\n",
    "from langchain.embeddings import OpenAIEmbeddings, CacheBackedEmbeddings\n",
    "from langchain.vectorstores import Chroma\n",
    "from langchain.storage import LocalFileStore\n",
    "from langchain.chains import RetrievalQA\n",
    "\n",
    "llm = ChatOpenAI()\n",
    "\n",
    "cache_dir = LocalFileStore(\"./.cache/\")\n",
    "\n",
    "splitter = CharacterTextSplitter.from_tiktoken_encoder(\n",
    "  separator=\"\\n\",\n",
    "  chunk_size=600,\n",
    "  chunk_overlap=100,\n",
    ")\n",
    "\n",
    "loader = UnstructuredFileLoader(\"./files/chapter_one.txt\")\n",
    "docs = loader.load_and_split(text_splitter=splitter)\n",
    "\n",
    "embeddings = OpenAIEmbeddings()\n",
    "\n",
    "cached_embeddings = CacheBackedEmbeddings.from_bytes_store(\n",
    "  embeddings, cache_dir\n",
    ")\n",
    "\n",
    "vectorstore = Chroma.from_documents(docs, cached_embeddings)\n",
    "\n",
    "chain = RetrievalQA.from_chain_type(\n",
    "  llm=llm,\n",
    "  chain_type=\"refine\",\n",
    "  retriever=vectorstore.as_retriever(),\n",
    ")\n"
   ]
  },
  {
   "cell_type": "code",
   "execution_count": 33,
   "metadata": {},
   "outputs": [
    {
     "data": {
      "text/plain": [
       "\"Thank you for providing the additional context from George Orwell's novel 1984. Based on this context, Winston Smith lives in Victory Mansions. The flat where he resides is on the seventh floor and is described as having a hallway that smells of boiled cabbage and old rag mats. The flat has a telescreen, an oblong metal plaque on the right-hand wall that cannot be completely shut off, constantly broadcasting information. Winston's flat also has a window through which he can look out.\""
      ]
     },
     "execution_count": 33,
     "metadata": {},
     "output_type": "execute_result"
    }
   ],
   "source": [
    "chain.run(\"Where does Winston live?\")"
   ]
  },
  {
   "cell_type": "code",
   "execution_count": 34,
   "metadata": {},
   "outputs": [
    {
     "data": {
      "text/plain": [
       "'In the dystopian world of George Orwell\\'s novel, 1984, the mention of \"Victory Gin\" and \"Victory Cigarettes\" takes on a deeper meaning. The description highlights the oppressive nature of the Ministry of Love, a place that remains inaccessible to ordinary citizens like the protagonist, Winston. The Ministry is heavily guarded with barbed-wire entanglements, steel doors, and armed guards. This strict security emphasizes the control and fear instilled by the Party.\\n\\nTo cope with his challenging existence in this grim environment, Winston turns to \"Victory Gin\" and \"Victory Cigarettes\" for temporary relief. The gin is described as a colorless liquid with a plain white label, emitting an unpleasant odor reminiscent of Chinese rice spirit. Although the taste is harsh, Winston drinks it, enduring a burning sensation similar to nitric acid. However, he experiences a temporary sense of cheerfulness afterward.\\n\\nSimilarly, the \"Victory Cigarettes\" are portrayed as of poor quality, as the tobacco easily falls out when Winston mishandles them. Despite their inferiority, he smokes them, seeking a momentary escape from the oppressive reality surrounding him.\\n\\nSymbolically, these products represent conformity and control as propagated by the Party\\'s propaganda. \"Victory Gin\" and \"Victory Cigarettes\" act as temporary distractions, offering Winston a fleeting respite from the grimness of his existence, while reinforcing the Party\\'s dominance over the lives and choices of its citizens.'"
      ]
     },
     "execution_count": 34,
     "metadata": {},
     "output_type": "execute_result"
    }
   ],
   "source": [
    "chain.run(\"Please describe 'Victory Mensions'\")"
   ]
  }
 ],
 "metadata": {
  "kernelspec": {
   "display_name": ".venv",
   "language": "python",
   "name": "python3"
  },
  "language_info": {
   "codemirror_mode": {
    "name": "ipython",
    "version": 3
   },
   "file_extension": ".py",
   "mimetype": "text/x-python",
   "name": "python",
   "nbconvert_exporter": "python",
   "pygments_lexer": "ipython3",
   "version": "3.11.6"
  }
 },
 "nbformat": 4,
 "nbformat_minor": 2
}
