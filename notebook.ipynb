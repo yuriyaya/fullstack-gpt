{
 "cells": [
  {
   "cell_type": "code",
   "execution_count": 5,
   "metadata": {},
   "outputs": [
    {
     "name": "stdout",
     "output_type": "stream",
     "text": [
      "\u001b[32;1m\u001b[1;3m[llm/start]\u001b[0m \u001b[1m[1:llm:ChatOpenAI] Entering LLM run with input:\n",
      "\u001b[0m{\n",
      "  \"prompts\": [\n",
      "    \"Human: How do you make italian pasta?\"\n",
      "  ]\n",
      "}\n",
      "\u001b[36;1m\u001b[1;3m[llm/end]\u001b[0m \u001b[1m[1:llm:ChatOpenAI] [15.33s] Exiting LLM run with output:\n",
      "\u001b[0m{\n",
      "  \"generations\": [\n",
      "    [\n",
      "      {\n",
      "        \"text\": \"To make Italian pasta, follow these steps:\\n\\n1. Boil water: Fill a large pot with water and bring it to a rolling boil. Add salt to the water for seasoning.\\n\\n2. Add pasta: Once the water is boiling, add the pasta to the pot. Use about 100 grams of pasta per person, or adjust according to your preference.\\n\\n3. Cook pasta: Cook the pasta according to the package instructions or until it reaches your desired level of doneness. Italians typically prefer their pasta cooked al dente, which means it should still have a slight bite to it.\\n\\n4. Make the sauce: While the pasta is cooking, prepare the sauce. There are various Italian pasta sauces you can make, such as tomato-based sauces like marinara or bolognese, cream-based sauces like Alfredo, or simple olive oil and garlic-based sauces. Choose your preferred sauce and follow a recipe or make it according to your taste.\\n\\n5. Drain pasta: Once the pasta is cooked, carefully drain it in a colander, reserving a small amount of the cooking water if needed for the sauce.\\n\\n6. Combine pasta and sauce: Return the drained pasta to the pot and add the prepared sauce. Toss the pasta gently to coat it evenly with the sauce. If the sauce is too thick, you can add a small amount of the reserved pasta cooking water to thin it out.\\n\\n7. Serve: Transfer the pasta to serving plates or bowls and garnish with grated Parmesan cheese, fresh herbs, or any other desired toppings. Serve immediately while it's still hot.\\n\\nRemember, Italian pasta dishes offer endless possibilities, so feel free to experiment with different types of pasta shapes, sauces, and ingredients to create your own unique dishes.\",\n",
      "        \"generation_info\": {\n",
      "          \"finish_reason\": \"stop\"\n",
      "        },\n",
      "        \"type\": \"ChatGeneration\",\n",
      "        \"message\": {\n",
      "          \"lc\": 1,\n",
      "          \"type\": \"constructor\",\n",
      "          \"id\": [\n",
      "            \"langchain\",\n",
      "            \"schema\",\n",
      "            \"messages\",\n",
      "            \"AIMessage\"\n",
      "          ],\n",
      "          \"kwargs\": {\n",
      "            \"content\": \"To make Italian pasta, follow these steps:\\n\\n1. Boil water: Fill a large pot with water and bring it to a rolling boil. Add salt to the water for seasoning.\\n\\n2. Add pasta: Once the water is boiling, add the pasta to the pot. Use about 100 grams of pasta per person, or adjust according to your preference.\\n\\n3. Cook pasta: Cook the pasta according to the package instructions or until it reaches your desired level of doneness. Italians typically prefer their pasta cooked al dente, which means it should still have a slight bite to it.\\n\\n4. Make the sauce: While the pasta is cooking, prepare the sauce. There are various Italian pasta sauces you can make, such as tomato-based sauces like marinara or bolognese, cream-based sauces like Alfredo, or simple olive oil and garlic-based sauces. Choose your preferred sauce and follow a recipe or make it according to your taste.\\n\\n5. Drain pasta: Once the pasta is cooked, carefully drain it in a colander, reserving a small amount of the cooking water if needed for the sauce.\\n\\n6. Combine pasta and sauce: Return the drained pasta to the pot and add the prepared sauce. Toss the pasta gently to coat it evenly with the sauce. If the sauce is too thick, you can add a small amount of the reserved pasta cooking water to thin it out.\\n\\n7. Serve: Transfer the pasta to serving plates or bowls and garnish with grated Parmesan cheese, fresh herbs, or any other desired toppings. Serve immediately while it's still hot.\\n\\nRemember, Italian pasta dishes offer endless possibilities, so feel free to experiment with different types of pasta shapes, sauces, and ingredients to create your own unique dishes.\",\n",
      "            \"additional_kwargs\": {}\n",
      "          }\n",
      "        }\n",
      "      }\n",
      "    ]\n",
      "  ],\n",
      "  \"llm_output\": {\n",
      "    \"token_usage\": {\n",
      "      \"prompt_tokens\": 14,\n",
      "      \"completion_tokens\": 351,\n",
      "      \"total_tokens\": 365\n",
      "    },\n",
      "    \"model_name\": \"gpt-3.5-turbo\",\n",
      "    \"system_fingerprint\": null\n",
      "  },\n",
      "  \"run\": null\n",
      "}\n"
     ]
    },
    {
     "data": {
      "text/plain": [
       "\"To make Italian pasta, follow these steps:\\n\\n1. Boil water: Fill a large pot with water and bring it to a rolling boil. Add salt to the water for seasoning.\\n\\n2. Add pasta: Once the water is boiling, add the pasta to the pot. Use about 100 grams of pasta per person, or adjust according to your preference.\\n\\n3. Cook pasta: Cook the pasta according to the package instructions or until it reaches your desired level of doneness. Italians typically prefer their pasta cooked al dente, which means it should still have a slight bite to it.\\n\\n4. Make the sauce: While the pasta is cooking, prepare the sauce. There are various Italian pasta sauces you can make, such as tomato-based sauces like marinara or bolognese, cream-based sauces like Alfredo, or simple olive oil and garlic-based sauces. Choose your preferred sauce and follow a recipe or make it according to your taste.\\n\\n5. Drain pasta: Once the pasta is cooked, carefully drain it in a colander, reserving a small amount of the cooking water if needed for the sauce.\\n\\n6. Combine pasta and sauce: Return the drained pasta to the pot and add the prepared sauce. Toss the pasta gently to coat it evenly with the sauce. If the sauce is too thick, you can add a small amount of the reserved pasta cooking water to thin it out.\\n\\n7. Serve: Transfer the pasta to serving plates or bowls and garnish with grated Parmesan cheese, fresh herbs, or any other desired toppings. Serve immediately while it's still hot.\\n\\nRemember, Italian pasta dishes offer endless possibilities, so feel free to experiment with different types of pasta shapes, sauces, and ingredients to create your own unique dishes.\""
      ]
     },
     "execution_count": 5,
     "metadata": {},
     "output_type": "execute_result"
    }
   ],
   "source": [
    "\n",
    "from langchain.chat_models import ChatOpenAI\n",
    "from langchain.callbacks import StreamingStdOutCallbackHandler\n",
    "from langchain.globals import set_llm_cache, set_debug\n",
    "from langchain.cache import InMemoryCache\n",
    "\n",
    "set_llm_cache(InMemoryCache())\n",
    "set_debug(True)\n",
    "\n",
    "chat = ChatOpenAI(\n",
    "  temperature=0.1, \n",
    "  # streaming=True, \n",
    "  # callbacks=[StreamingStdOutCallbackHandler()]\n",
    ")\n",
    "\n",
    "chat.predict(\"How do you make italian pasta?\")"
   ]
  },
  {
   "cell_type": "code",
   "execution_count": 6,
   "metadata": {},
   "outputs": [],
   "source": [
    "from langchain.cache import SQLiteCache\n",
    "\n",
    "set_llm_cache(SQLiteCache(\"cache.db\"))"
   ]
  },
  {
   "cell_type": "code",
   "execution_count": 7,
   "metadata": {},
   "outputs": [
    {
     "name": "stdout",
     "output_type": "stream",
     "text": [
      "\u001b[32;1m\u001b[1;3m[llm/start]\u001b[0m \u001b[1m[1:llm:ChatOpenAI] Entering LLM run with input:\n",
      "\u001b[0m{\n",
      "  \"prompts\": [\n",
      "    \"Human: How do you make italian pasta?\"\n",
      "  ]\n",
      "}\n",
      "\u001b[36;1m\u001b[1;3m[llm/end]\u001b[0m \u001b[1m[1:llm:ChatOpenAI] [18.31s] Exiting LLM run with output:\n",
      "\u001b[0m{\n",
      "  \"generations\": [\n",
      "    [\n",
      "      {\n",
      "        \"text\": \"To make Italian pasta, you will need the following ingredients and steps:\\n\\nIngredients:\\n- 2 cups of all-purpose flour\\n- 2 large eggs\\n- 1/2 teaspoon of salt\\n- Water (if needed)\\n\\nSteps:\\n1. On a clean surface or in a large mixing bowl, create a well with the flour.\\n2. Crack the eggs into the well and add salt.\\n3. Using a fork, beat the eggs and gradually incorporate the flour from the sides of the well. Continue mixing until a dough starts to form.\\n4. Knead the dough with your hands for about 5-10 minutes until it becomes smooth and elastic. If the dough is too dry, add a little water. If it's too sticky, add a little flour.\\n5. Once the dough is ready, cover it with a clean kitchen towel and let it rest for about 30 minutes.\\n6. After resting, divide the dough into smaller portions for easier handling.\\n7. Take one portion and flatten it with a rolling pin or pasta machine until it reaches your desired thickness. You can sprinkle some flour on the surface to prevent sticking.\\n8. If using a pasta machine, gradually pass the dough through the machine, starting with the widest setting and gradually reducing the thickness until you reach the desired thickness.\\n9. Once the dough is rolled out, you can cut it into various pasta shapes like fettuccine, spaghetti, or lasagna sheets.\\n10. If making long pasta like spaghetti, hang the strands on a drying rack or lay them flat on a clean surface to dry for a few minutes before cooking.\\n11. To cook the pasta, bring a large pot of salted water to a boil. Add the pasta and cook according to the package instructions or until al dente (firm to the bite).\\n12. Drain the cooked pasta and serve it with your favorite sauce, such as marinara, carbonara, or pesto.\\n\\nEnjoy your homemade Italian pasta!\",\n",
      "        \"generation_info\": {\n",
      "          \"finish_reason\": \"stop\"\n",
      "        },\n",
      "        \"type\": \"ChatGeneration\",\n",
      "        \"message\": {\n",
      "          \"lc\": 1,\n",
      "          \"type\": \"constructor\",\n",
      "          \"id\": [\n",
      "            \"langchain\",\n",
      "            \"schema\",\n",
      "            \"messages\",\n",
      "            \"AIMessage\"\n",
      "          ],\n",
      "          \"kwargs\": {\n",
      "            \"content\": \"To make Italian pasta, you will need the following ingredients and steps:\\n\\nIngredients:\\n- 2 cups of all-purpose flour\\n- 2 large eggs\\n- 1/2 teaspoon of salt\\n- Water (if needed)\\n\\nSteps:\\n1. On a clean surface or in a large mixing bowl, create a well with the flour.\\n2. Crack the eggs into the well and add salt.\\n3. Using a fork, beat the eggs and gradually incorporate the flour from the sides of the well. Continue mixing until a dough starts to form.\\n4. Knead the dough with your hands for about 5-10 minutes until it becomes smooth and elastic. If the dough is too dry, add a little water. If it's too sticky, add a little flour.\\n5. Once the dough is ready, cover it with a clean kitchen towel and let it rest for about 30 minutes.\\n6. After resting, divide the dough into smaller portions for easier handling.\\n7. Take one portion and flatten it with a rolling pin or pasta machine until it reaches your desired thickness. You can sprinkle some flour on the surface to prevent sticking.\\n8. If using a pasta machine, gradually pass the dough through the machine, starting with the widest setting and gradually reducing the thickness until you reach the desired thickness.\\n9. Once the dough is rolled out, you can cut it into various pasta shapes like fettuccine, spaghetti, or lasagna sheets.\\n10. If making long pasta like spaghetti, hang the strands on a drying rack or lay them flat on a clean surface to dry for a few minutes before cooking.\\n11. To cook the pasta, bring a large pot of salted water to a boil. Add the pasta and cook according to the package instructions or until al dente (firm to the bite).\\n12. Drain the cooked pasta and serve it with your favorite sauce, such as marinara, carbonara, or pesto.\\n\\nEnjoy your homemade Italian pasta!\",\n",
      "            \"additional_kwargs\": {}\n",
      "          }\n",
      "        }\n",
      "      }\n",
      "    ]\n",
      "  ],\n",
      "  \"llm_output\": {\n",
      "    \"token_usage\": {\n",
      "      \"prompt_tokens\": 14,\n",
      "      \"completion_tokens\": 399,\n",
      "      \"total_tokens\": 413\n",
      "    },\n",
      "    \"model_name\": \"gpt-3.5-turbo\",\n",
      "    \"system_fingerprint\": null\n",
      "  },\n",
      "  \"run\": null\n",
      "}\n"
     ]
    },
    {
     "data": {
      "text/plain": [
       "\"To make Italian pasta, you will need the following ingredients and steps:\\n\\nIngredients:\\n- 2 cups of all-purpose flour\\n- 2 large eggs\\n- 1/2 teaspoon of salt\\n- Water (if needed)\\n\\nSteps:\\n1. On a clean surface or in a large mixing bowl, create a well with the flour.\\n2. Crack the eggs into the well and add salt.\\n3. Using a fork, beat the eggs and gradually incorporate the flour from the sides of the well. Continue mixing until a dough starts to form.\\n4. Knead the dough with your hands for about 5-10 minutes until it becomes smooth and elastic. If the dough is too dry, add a little water. If it's too sticky, add a little flour.\\n5. Once the dough is ready, cover it with a clean kitchen towel and let it rest for about 30 minutes.\\n6. After resting, divide the dough into smaller portions for easier handling.\\n7. Take one portion and flatten it with a rolling pin or pasta machine until it reaches your desired thickness. You can sprinkle some flour on the surface to prevent sticking.\\n8. If using a pasta machine, gradually pass the dough through the machine, starting with the widest setting and gradually reducing the thickness until you reach the desired thickness.\\n9. Once the dough is rolled out, you can cut it into various pasta shapes like fettuccine, spaghetti, or lasagna sheets.\\n10. If making long pasta like spaghetti, hang the strands on a drying rack or lay them flat on a clean surface to dry for a few minutes before cooking.\\n11. To cook the pasta, bring a large pot of salted water to a boil. Add the pasta and cook according to the package instructions or until al dente (firm to the bite).\\n12. Drain the cooked pasta and serve it with your favorite sauce, such as marinara, carbonara, or pesto.\\n\\nEnjoy your homemade Italian pasta!\""
      ]
     },
     "execution_count": 7,
     "metadata": {},
     "output_type": "execute_result"
    }
   ],
   "source": [
    "chat.predict(\"How do you make italian pasta?\")"
   ]
  }
 ],
 "metadata": {
  "kernelspec": {
   "display_name": ".venv",
   "language": "python",
   "name": "python3"
  },
  "language_info": {
   "codemirror_mode": {
    "name": "ipython",
    "version": 3
   },
   "file_extension": ".py",
   "mimetype": "text/x-python",
   "name": "python",
   "nbconvert_exporter": "python",
   "pygments_lexer": "ipython3",
   "version": "3.11.6"
  }
 },
 "nbformat": 4,
 "nbformat_minor": 2
}
