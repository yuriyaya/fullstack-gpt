{
 "cells": [
  {
   "cell_type": "code",
   "execution_count": 4,
   "metadata": {},
   "outputs": [],
   "source": [
    "from langchain.chat_models import ChatOpenAI\n",
    "from langchain.prompts import PromptTemplate\n",
    "\n",
    "def get_weather(lon, lat):\n",
    "  print(\"call an api to get weather info\")\n",
    "\n",
    "function = {\n",
    "  \"name\": \"get_weather\",\n",
    "  \"description\": \"function that takes longitude and latitude to find the weather of a place\",\n",
    "  \"parameters\": {\n",
    "    \"type\": \"object\",\n",
    "    \"properties\": {\n",
    "      \"lon\": {\"type\": \"string\", \"description\": \"The longitude coordinate\"},\n",
    "      \"lat\": {\"type\": \"string\", \"description\": \"The latitude coordinate\"},\n",
    "    },\n",
    "  },\n",
    "  \"required\": [\"lon\", \"lat\"],\n",
    "}\n",
    "\n",
    "llm = ChatOpenAI(temperature=0.1).bind(function_call=\"auto\", functions=[function])\n",
    "prompt = PromptTemplate.from_template(\"What is the weather in {city}\")\n",
    "\n",
    "chain = prompt | llm\n",
    "\n",
    "response = chain.invoke({\n",
    "  \"city\": \"Seoul\"\n",
    "})\n",
    "\n",
    "response = response.additional_kwargs[\"function_call\"][\"arguments\"]\n"
   ]
  },
  {
   "cell_type": "code",
   "execution_count": 7,
   "metadata": {},
   "outputs": [
    {
     "name": "stdout",
     "output_type": "stream",
     "text": [
      "call an api to get weather info\n"
     ]
    }
   ],
   "source": [
    "import json\n",
    "\n",
    "response = json.loads(response)\n",
    "\n",
    "get_weather(response[\"lon\"], response[\"lon\"])"
   ]
  },
  {
   "cell_type": "code",
   "execution_count": 8,
   "metadata": {},
   "outputs": [
    {
     "data": {
      "text/plain": [
       "'{\\n  \"questions\": [\\n    {\\n      \"question\": \"What is the capital city of South Korea?\",\\n      \"answers\": [\\n        {\\n          \"answer\": \"Seoul\",\\n          \"correct\": true\\n        },\\n        {\\n          \"answer\": \"Busan\",\\n          \"correct\": false\\n        },\\n        {\\n          \"answer\": \"Incheon\",\\n          \"correct\": false\\n        },\\n        {\\n          \"answer\": \"Daegu\",\\n          \"correct\": false\\n        }\\n      ]\\n    },\\n    {\\n      \"question\": \"Which river flows through Seoul?\",\\n      \"answers\": [\\n        {\\n          \"answer\": \"Han River\",\\n          \"correct\": true\\n        },\\n        {\\n          \"answer\": \"Nakdong River\",\\n          \"correct\": false\\n        },\\n        {\\n          \"answer\": \"Geum River\",\\n          \"correct\": false\\n        },\\n        {\\n          \"answer\": \"Yeongsan River\",\\n          \"correct\": false\\n        }\\n      ]\\n    },\\n    {\\n      \"question\": \"What is the tallest building in Seoul?\",\\n      \"answers\": [\\n        {\\n          \"answer\": \"Lotte World Tower\",\\n          \"correct\": true\\n        },\\n        {\\n          \"answer\": \"N Seoul Tower\",\\n          \"correct\": false\\n        },\\n        {\\n          \"answer\": \"63 Building\",\\n          \"correct\": false\\n        },\\n        {\\n          \"answer\": \"Seoul Sky\",\\n          \"correct\": false\\n        }\\n      ]\\n    },\\n    {\\n      \"question\": \"Which traditional market is famous in Seoul?\",\\n      \"answers\": [\\n        {\\n          \"answer\": \"Namdaemun Market\",\\n          \"correct\": true\\n        },\\n        {\\n          \"answer\": \"Gwangjang Market\",\\n          \"correct\": false\\n        },\\n        {\\n          \"answer\": \"Dongdaemun Market\",\\n          \"correct\": false\\n        },\\n        {\\n          \"answer\": \"Myeongdong Market\",\\n          \"correct\": false\\n        }\\n      ]\\n    },\\n    {\\n      \"question\": \"Which palace is located in the heart of Seoul?\",\\n      \"answers\": [\\n        {\\n          \"answer\": \"Gyeongbokgung Palace\",\\n          \"correct\": true\\n        },\\n        {\\n          \"answer\": \"Changdeokgung Palace\",\\n          \"correct\": false\\n        },\\n        {\\n          \"answer\": \"Deoksugung Palace\",\\n          \"correct\": false\\n        },\\n        {\\n          \"answer\": \"Changgyeonggung Palace\",\\n          \"correct\": false\\n        }\\n      ]\\n    }\\n  ]\\n}'"
      ]
     },
     "execution_count": 8,
     "metadata": {},
     "output_type": "execute_result"
    }
   ],
   "source": [
    "from langchain.chat_models import ChatOpenAI\n",
    "from langchain.prompts import PromptTemplate\n",
    "\n",
    "\n",
    "function = {\n",
    "    \"name\": \"create_quiz\",\n",
    "    \"description\": \"function that takes a list of questions and answers and returns a quiz\",\n",
    "    \"parameters\": {\n",
    "        \"type\": \"object\",\n",
    "        \"properties\": {\n",
    "            \"questions\": {\n",
    "                \"type\": \"array\",\n",
    "                \"items\": {\n",
    "                    \"type\": \"object\",\n",
    "                    \"properties\": {\n",
    "                        \"question\": {\n",
    "                            \"type\": \"string\",\n",
    "                        },\n",
    "                        \"answers\": {\n",
    "                            \"type\": \"array\",\n",
    "                            \"items\": {\n",
    "                                \"type\": \"object\",\n",
    "                                \"properties\": {\n",
    "                                    \"answer\": {\n",
    "                                        \"type\": \"string\",\n",
    "                                    },\n",
    "                                    \"correct\": {\n",
    "                                        \"type\": \"boolean\",\n",
    "                                    },\n",
    "                                },\n",
    "                                \"required\": [\"answer\", \"correct\"],\n",
    "                            },\n",
    "                        },\n",
    "                    },\n",
    "                    \"required\": [\"question\", \"answers\"],\n",
    "                },\n",
    "            }\n",
    "        },\n",
    "        \"required\": [\"questions\"],\n",
    "    },\n",
    "}\n",
    "\n",
    "\n",
    "llm = ChatOpenAI(\n",
    "    temperature=0.1,\n",
    ").bind(\n",
    "    function_call={\n",
    "        \"name\": \"create_quiz\",\n",
    "    },\n",
    "    functions=[\n",
    "        function,\n",
    "    ],\n",
    ")\n",
    "\n",
    "prompt = PromptTemplate.from_template(\"Make a quiz about {city}\")\n",
    "\n",
    "chain = prompt | llm\n",
    "\n",
    "response = chain.invoke({\"city\": \"Seoul\"})\n",
    "\n",
    "\n",
    "response = response.additional_kwargs[\"function_call\"][\"arguments\"]\n",
    "\n",
    "response"
   ]
  },
  {
   "cell_type": "code",
   "execution_count": 9,
   "metadata": {},
   "outputs": [
    {
     "data": {
      "text/plain": [
       "{'questions': [{'question': 'What is the capital city of South Korea?',\n",
       "   'answers': [{'answer': 'Seoul', 'correct': True},\n",
       "    {'answer': 'Busan', 'correct': False},\n",
       "    {'answer': 'Incheon', 'correct': False},\n",
       "    {'answer': 'Daegu', 'correct': False}]},\n",
       "  {'question': 'Which river flows through Seoul?',\n",
       "   'answers': [{'answer': 'Han River', 'correct': True},\n",
       "    {'answer': 'Nakdong River', 'correct': False},\n",
       "    {'answer': 'Geum River', 'correct': False},\n",
       "    {'answer': 'Yeongsan River', 'correct': False}]},\n",
       "  {'question': 'What is the tallest building in Seoul?',\n",
       "   'answers': [{'answer': 'Lotte World Tower', 'correct': True},\n",
       "    {'answer': 'N Seoul Tower', 'correct': False},\n",
       "    {'answer': '63 Building', 'correct': False},\n",
       "    {'answer': 'Seoul Sky', 'correct': False}]},\n",
       "  {'question': 'Which traditional market is famous in Seoul?',\n",
       "   'answers': [{'answer': 'Namdaemun Market', 'correct': True},\n",
       "    {'answer': 'Gwangjang Market', 'correct': False},\n",
       "    {'answer': 'Dongdaemun Market', 'correct': False},\n",
       "    {'answer': 'Myeongdong Market', 'correct': False}]},\n",
       "  {'question': 'Which palace is located in the heart of Seoul?',\n",
       "   'answers': [{'answer': 'Gyeongbokgung Palace', 'correct': True},\n",
       "    {'answer': 'Changdeokgung Palace', 'correct': False},\n",
       "    {'answer': 'Deoksugung Palace', 'correct': False},\n",
       "    {'answer': 'Changgyeonggung Palace', 'correct': False}]}]}"
      ]
     },
     "execution_count": 9,
     "metadata": {},
     "output_type": "execute_result"
    }
   ],
   "source": [
    "import json\n",
    "json.loads(response)"
   ]
  }
 ],
 "metadata": {
  "kernelspec": {
   "display_name": ".venv",
   "language": "python",
   "name": "python3"
  },
  "language_info": {
   "codemirror_mode": {
    "name": "ipython",
    "version": 3
   },
   "file_extension": ".py",
   "mimetype": "text/x-python",
   "name": "python",
   "nbconvert_exporter": "python",
   "pygments_lexer": "ipython3",
   "version": "3.11.6"
  }
 },
 "nbformat": 4,
 "nbformat_minor": 2
}
